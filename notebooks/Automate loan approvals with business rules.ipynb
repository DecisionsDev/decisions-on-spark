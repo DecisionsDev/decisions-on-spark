{
 "cells": [
  {
   "cell_type": "markdown",
   "metadata": {
    "collapsed": true
   },
   "source": [
    "# Automate loan approvals with Business rules in Apache Spark and Scala\n",
    "\n",
    "### Automating at scale your business decisions in Apache Spark with IBM ODM 8.9.2\n",
    "\n",
    "This Scala notebook shows you how to execute locally business rules in DSX and Apache Spark. \n",
    "You'll learn how to call in Apache Spark a rule-based decision service. This decision service has been programmed with IBM Operational Decision Manager.  \n",
    "\n",
    "This notebook puts in action a decision service named Miniloan that is part of the ODM tutorials. It determines with business rules whether a customer is eligible for a loan according to specific criteria. The criteria include the amount of the loan, the annual income of the borrower, and the duration of the loan.\n",
    "\n",
    "First we load an application data set that was captured as a CSV file. In scala we apply a map to this data set to automate a rule-based reasoning, in order to outcome a decision. The rule execution is performed locally in the Spark service. This notebook shows a complete Scala code that can execute any ruleset based on the public APIs.\n",
    "\n",
    "To get the most out of this notebook, you should have some familiarity with the Scala programming language.\n",
    "\n",
    "## Contents \n",
    "This notebook contains the following main sections:\n",
    "\n",
    "1. [Load the loan validation request dataset.](#loaddatatset)\n",
    "2. [Load the business rule execution and the simple loan application object model libraries.](#loadjars)\n",
    "3. [Import Scala packages.](#importpackages)\n",
    "4. [Implement a decision making function.](#implementDecisionServiceMap)\n",
    "5. [Execute the business rules to approve or reject the loan applications.](#executedecisions) \n",
    "6. [View the automated decisions.](#viewdecisions)\n",
    "7. [Summary and next steps.](#summary)  "
   ]
  },
  {
   "cell_type": "markdown",
   "metadata": {
    "collapsed": true
   },
   "source": [
    "<a id=\"accessdataset\"></a>\n",
    "## 1. Loading a loan application dataset file\n",
    "A data set of simple loan applications is already available. You load it in the Notebook through its url."
   ]
  },
  {
   "cell_type": "code",
   "execution_count": 1,
   "metadata": {},
   "outputs": [
    {
     "name": "stdout",
     "output_type": "stream",
     "text": [
      "--2018-06-05 09:20:42--  https://raw.githubusercontent.com/ODMDev/decisions-on-spark/master/data/miniloan/miniloan-requests-10K.csv\n",
      "Resolving raw.githubusercontent.com (raw.githubusercontent.com)... 151.101.48.133\n",
      "Connecting to raw.githubusercontent.com (raw.githubusercontent.com)|151.101.48.133|:443... connected.\n",
      "HTTP request sent, awaiting response... 200 OK\n",
      "Length: 417500 (408K) [text/plain]\n",
      "Saving to: ‘miniloan-requests-10K.csv.54’\n",
      "\n",
      "     0K .......... .......... .......... .......... .......... 12% 17.6M 0s\n",
      "    50K .......... .......... .......... .......... .......... 24% 20.3M 0s\n",
      "   100K .......... .......... .......... .......... .......... 36% 14.2M 0s\n",
      "   150K .......... .......... .......... .......... .......... 49% 18.5M 0s\n",
      "   200K .......... .......... .......... .......... .......... 61% 14.3M 0s\n",
      "   250K .......... .......... .......... .......... .......... 73% 6.38M 0s\n",
      "   300K .......... .......... .......... .......... .......... 85% 20.4M 0s\n",
      "   350K .......... .......... .......... .......... .......... 98% 30.5M 0s\n",
      "   400K .......                                               100%  247M=0.03s\n",
      "\n",
      "2018-06-05 09:20:42 (15.1 MB/s) - ‘miniloan-requests-10K.csv.54’ saved [417500/417500]\n",
      "\n"
     ]
    },
    {
     "data": {
      "text/plain": [
       "0"
      ]
     },
     "execution_count": 1,
     "metadata": {},
     "output_type": "execute_result"
    }
   ],
   "source": [
    "// @hidden_cell\n",
    "import scala.sys.process._\n",
    "\n",
    "\"wget https://raw.githubusercontent.com/ODMDev/decisions-on-spark/master/data/miniloan/miniloan-requests-10K.csv\".!"
   ]
  },
  {
   "cell_type": "code",
   "execution_count": null,
   "metadata": {},
   "outputs": [],
   "source": [
    "val filename = \"miniloan-requests-10K.csv\""
   ]
  },
  {
   "cell_type": "markdown",
   "metadata": {},
   "source": [
    "This following code loads the 10 000 simple loan application dataset written in CSV format."
   ]
  },
  {
   "cell_type": "code",
   "execution_count": 14,
   "metadata": {
    "scrolled": true
   },
   "outputs": [
    {
     "name": "stdout",
     "output_type": "stream",
     "text": [
      "10000 loan requests read in a CVS format\n",
      "The first 5 requests:\n",
      "John Doe, 550, 80000, 250000, 240, 0.05d\n",
      "John Woo, 540, 100000, 250000, 240, 0.05d\n",
      "Peter Woo, 540, 60000, 250000, 120, 0.05d\n",
      "Peter Woo, 540, 60000, 250000, 120, 0.07d\n",
      "John Doe, 550, 80000, 250000, 240, 0.05d\n",
      "John Woo, 540, 100000, 250000, 240, 0.05d\n",
      "Peter Woo, 540, 60000, 250000, 120, 0.05d\n",
      "Peter Woo, 540, 60000, 250000, 120, 0.07d\n",
      "John Doe, 550, 80000, 250000, 240, 0.05d\n",
      "John Woo, 540, 100000, 250000, 240, 0.05d\n",
      "Peter Woo, 540, 60000, 250000, 120, 0.05d\n",
      "Peter Woo, 540, 60000, 250000, 120, 0.07d\n",
      "John Doe, 550, 80000, 250000, 240, 0.05d\n",
      "John Woo, 540, 100000, 250000, 240, 0.05d\n",
      "Peter Woo, 540, 60000, 250000, 120, 0.05d\n",
      "Peter Woo, 540, 60000, 250000, 120, 0.07d\n",
      "John Doe, 550, 80000, 250000, 240, 0.05d\n",
      "John Woo, 540, 100000, 250000, 240, 0.05d\n",
      "Peter Woo, 540, 60000, 250000, 120, 0.05d\n",
      "Peter Woo, 540, 60000, 250000, 120, 0.07d\n"
     ]
    }
   ],
   "source": [
    "val requestData = sc.textFile(filename)\n",
    "val requestDataCount = requestData.count\n",
    "println(s\"$requestDataCount loan requests read in a CVS format\")\n",
    "println(\"The first 5 requests:\")\n",
    "requestData.take(20).foreach(println)"
   ]
  },
  {
   "cell_type": "markdown",
   "metadata": {},
   "source": [
    "<a id=\"loadjars\"></a>\n",
    "## 2. Add libraries for business rule execution and a loan application object model\n",
    "The XXX refers to your object storage or other place where you make available these jars.\n",
    "\n",
    "Add the following jars to execute the deployed decision service\n",
    "<il>\n",
    "<li>%AddJar https://XXX/j2ee_connector-1_5-fr.jar</li>\n",
    "<li>%AddJar https://XXX/jrules-engine.jar</li>\n",
    "<li>%AddJar https://XXX/jrules-res-execution.jar</li>\n",
    "</il>\n",
    "\n",
    "In addition you need the Apache Jackson annotation lib\n",
    "<il>\n",
    "<li>%AddJar https://XXX/jackson-annotations-2.6.5.jar</li>\n",
    "</il>\n",
    "\n",
    "Business Rules apply on a Java executable Object Model packaged as a jar. We need these classes to create the decision requests, and to retreive the response from the rule engine.\n",
    "<il>\n",
    "<li>%AddJar https://XXX/miniloan-xom.jar</li>\n",
    "</il>"
   ]
  },
  {
   "cell_type": "code",
   "execution_count": null,
   "metadata": {},
   "outputs": [],
   "source": [
    "// @hidden_cell\n",
    "// The urls below are accessible for an IBM internal usage only\n",
    "\n",
    "%AddJar https://XXX/j2ee_connector-1_5-fr.jar\n",
    "%AddJar https://XXX/jrules-engine.jar\n",
    "%AddJar https://XXX/jrules-res-execution.jar\n",
    "%AddJar https://XXX/jackson-annotations-2.6.5.jar -f\n",
    "\n",
    "//Loan Application eXecutable Object Model\n",
    "%AddJar https://XXX/miniloan-xom.jar -f\n",
    "\n",
    "print(\"Your notebook is now ready to execute business rules to approve or reject loan applications\")"
   ]
  },
  {
   "cell_type": "markdown",
   "metadata": {},
   "source": [
    "<a id=\"importpackages\"></a>\n",
    "## 3. Import packages\n",
    "Import ODM and Apache Spark packages."
   ]
  },
  {
   "cell_type": "code",
   "execution_count": 16,
   "metadata": {},
   "outputs": [],
   "source": [
    "import java.util.Map\n",
    "import java.util.HashMap\n",
    "\n",
    "import com.fasterxml.jackson.core.JsonGenerationException\n",
    "import com.fasterxml.jackson.core.JsonProcessingException\n",
    "import com.fasterxml.jackson.databind.JsonMappingException\n",
    "import com.fasterxml.jackson.databind.ObjectMapper\n",
    "import com.fasterxml.jackson.databind.SerializationFeature\n",
    "\n",
    "import org.apache.spark.SparkConf\n",
    "import org.apache.spark.api.java.JavaDoubleRDD\n",
    "import org.apache.spark.api.java.JavaRDD\n",
    "import org.apache.spark.api.java.JavaSparkContext\n",
    "import org.apache.spark.api.java.function.Function\n",
    "import org.apache.hadoop.fs.FileSystem\n",
    "import org.apache.hadoop.fs.Path\n",
    "\n",
    "import scala.collection.JavaConverters._\n",
    "\n",
    "import ilog.rules.res.model._\n",
    "\n",
    "import com.ibm.res.InMemoryJ2SEFactory\n",
    "import com.ibm.res.InMemoryRepositoryDAO\n",
    "\n",
    "import ilog.rules.res.session._\n",
    "\n",
    "import miniloan.Borrower\n",
    "import miniloan.Loan\n",
    "\n",
    "import scala.io.Source\n",
    "import java.net.URL\n",
    "import java.io.InputStream"
   ]
  },
  {
   "cell_type": "markdown",
   "metadata": {},
   "source": [
    "<a id=\"implementDecisionServiceMap\"></a>\n",
    "## 4. Implement a Map function that executes a rule-based decision service"
   ]
  },
  {
   "cell_type": "code",
   "execution_count": 17,
   "metadata": {},
   "outputs": [],
   "source": [
    "case class MiniLoanRequest(borrower: miniloan.Borrower, \n",
    "      loan: miniloan.Loan) \n",
    "\n",
    "case class RESRunner(sessionFactory: com.ibm.res.InMemoryJ2SEFactory)  {\n",
    "    \n",
    "  def executeAsString(s: String): String = {\n",
    "    println(\"executeAsString\")\n",
    "    val request = makeRequest(s)\n",
    "    val response = executeRequest(request)\n",
    "    \n",
    "    response\n",
    "  }\n",
    "  \n",
    "   private def makeRequest(s: String): MiniLoanRequest = {\n",
    "    val tokens = s.split(\",\")\n",
    "       \n",
    "    // Borrower deserialization from CSV\n",
    "    val borrowerName = tokens(0)\n",
    "    val borrowerCreditScore = java.lang.Integer.parseInt(tokens(1).trim())\n",
    "    val borrowerYearlyIncome = java.lang.Integer.parseInt(tokens(2).trim())\n",
    "    val loanAmount = java.lang.Integer.parseInt(tokens(3).trim())\n",
    "    val loanDuration = java.lang.Integer.parseInt(tokens(4).trim())\n",
    "    val yearlyInterestRate = java.lang.Double.parseDouble(tokens(5).trim())\n",
    "    val borrower = new miniloan.Borrower(borrowerName, borrowerCreditScore, borrowerYearlyIncome)\n",
    "       \n",
    "    // Loan request deserialization from CSV\n",
    "    val loan = new miniloan.Loan()\n",
    "    loan.setAmount(loanAmount)\n",
    "    loan.setDuration(loanDuration)\n",
    "    loan.setYearlyInterestRate(yearlyInterestRate)\n",
    "       \n",
    "    val request = new MiniLoanRequest(borrower, loan)\n",
    "    request\n",
    "  }\n",
    "    \n",
    " def executeRequest(request: MiniLoanRequest): String = {\n",
    "    try {\n",
    "        val sessionRequest = sessionFactory.createRequest()\n",
    "        val rulesetPath = \"/Miniloan/Miniloan\"\n",
    "        sessionRequest.setRulesetPath(ilog.rules.res.model.IlrPath.parsePath(rulesetPath))\n",
    "\n",
    "        //sessionRequest.getTraceFilter.setInfoAllFilters(false)\n",
    "        val inputParameters = sessionRequest.getInputParameters\n",
    "        inputParameters.put(\"loan\", request.loan)\n",
    "        inputParameters.put(\"borrower\", request.borrower)\n",
    "        val session = sessionFactory.createStatelessSession()\n",
    "        \n",
    "        val response = session.execute(sessionRequest)\n",
    "        \n",
    "        var loan = response.getOutputParameters().get(\"loan\").asInstanceOf[miniloan.Loan]\n",
    "        val mapper = new com.fasterxml.jackson.databind.ObjectMapper()\n",
    "        mapper.configure(com.fasterxml.jackson.databind.SerializationFeature.FAIL_ON_EMPTY_BEANS, false)\n",
    "        val results = new java.util.HashMap[String,Object]()\n",
    "        results.put(\"input\", inputParameters)\n",
    "        results.put(\"output\", response.getOutputParameters())\n",
    "        try {\n",
    "            //return mapper.writeValueAsString(results)\n",
    "            return mapper.writerWithDefaultPrettyPrinter().writeValueAsString(results);\n",
    "        } catch {\n",
    "            case e: Exception => return e.toString()\n",
    "        }\n",
    "        \"Error\"\n",
    "    } catch {\n",
    "        case exception: Exception => {\n",
    "            return exception.toString()\n",
    "        }\n",
    "    }\n",
    "    \"Error\"\n",
    "  }\n",
    "}\n",
    "\n",
    "\n",
    "val decisionService = new Function[String, String]() {\n",
    "\n",
    "    @transient private var ruleSessionFactory: InMemoryJ2SEFactory = null\n",
    "    private val rulesetURL = \"https://odmlibserver.mybluemix.net/8901/decisionservices/miniloan-8901.dsar\"\n",
    "    @transient private var rulesetStream: InputStream = null\n",
    "\n",
    "  def GetRuleSessionFactory(): InMemoryJ2SEFactory = {\n",
    "    if (ruleSessionFactory == null) {\n",
    "      ruleSessionFactory = new InMemoryJ2SEFactory()\n",
    "      // Create the Management Session \n",
    "      var repositoryFactory = ruleSessionFactory.createManagementSession().getRepositoryFactory()\n",
    "      var repository = repositoryFactory.createRepository()\n",
    "  \n",
    "      // Deploy the Ruleapp with the Regular Management Session API.\n",
    "      var rapp = repositoryFactory.createRuleApp(\"Miniloan\", IlrVersion.parseVersion(\"1.0\"));\n",
    "      var rs = repositoryFactory.createRuleset(\"Miniloan\",IlrVersion.parseVersion(\"1.1\"));\n",
    "      rapp.addRuleset(rs);\n",
    "        \n",
    "      //var fileStream = Source.fromResourceAsStream(RulesetFileName)\n",
    "\n",
    "      rulesetStream = new java.net.URL(rulesetURL).openStream()\n",
    "\n",
    "      rs.setRESRulesetArchive(IlrEngineType.DE,rulesetStream)\n",
    "      repository.addRuleApp(rapp)\n",
    "    \n",
    "    }\n",
    "    ruleSessionFactory\n",
    "  }\n",
    "    \n",
    "  def call(s: String): String = {\n",
    "    var runner = new RESRunner(GetRuleSessionFactory())\n",
    "    return runner.executeAsString(s)\n",
    "  }\n",
    "    \n",
    "  def execute(s: String): String = {\n",
    "    try {\n",
    "      var runner = new RESRunner(GetRuleSessionFactory())\n",
    "      return runner.executeAsString(s)\n",
    "    } catch {\n",
    "      case exception: Exception => {\n",
    "        exception.printStackTrace(System.err)\n",
    "      }\n",
    "    }\n",
    "    \"Execution error\"\n",
    "  }\n",
    "}"
   ]
  },
  {
   "cell_type": "markdown",
   "metadata": {},
   "source": [
    "<a id=\"executedecisions\"></a>\n",
    "## 5. Automate the decision making on the loan application dataset\n",
    "You invoke a map on the decision function. While the map occurs rule engines are processing in parallel the loan applications to produce a data set of answers."
   ]
  },
  {
   "cell_type": "code",
   "execution_count": 18,
   "metadata": {},
   "outputs": [
    {
     "name": "stdout",
     "output_type": "stream",
     "text": [
      "Start of Execution\n",
      "Number of rule based decisions: 10000                                           \n",
      "End of Execution \n",
      "Decision automation job done\n"
     ]
    }
   ],
   "source": [
    "println(\"Start of Execution\")\n",
    "val answers = requestData.map(decisionService.execute)\n",
    "printf(\"Number of rule based decisions: %s \\n\" , answers.count)\n",
    "// Cleanup output file\n",
    "//val fs = FileSystem.get(new URI(outputPath), sc.hadoopConfiguration);\n",
    "//if (fs.exists(new Path(outputPath)))\n",
    "   // fs.delete(new Path(outputPath), true)\n",
    "// Save RDD in a HDFS file\n",
    "println(\"End of Execution \")\n",
    "//answers.saveAsTextFile(\"swift://DecisionBatchExecution.\" + securedAccessName + \"/miniloan-decisions-10.csv\")\n",
    "\n",
    "println(\"Decision automation job done\")"
   ]
  },
  {
   "cell_type": "markdown",
   "metadata": {},
   "source": [
    "<a id=\"viewdecisions\"></a>\n",
    "## 6. View your automated decisions\n",
    "Each decision is composed of output parameters and of a decision trace. The loan data contains the approval flag and the computed yearly repayment. The decision trace lists the business rules that have been executed in sequence to come to the conclusion. Each decision has been serialized in JSON."
   ]
  },
  {
   "cell_type": "code",
   "execution_count": 19,
   "metadata": {},
   "outputs": [
    {
     "name": "stdout",
     "output_type": "stream",
     "text": [
      "{\n",
      "  \"output\" : {\n",
      "    \"ilog.rules.firedRulesCount\" : 0,\n",
      "    \"loan\" : {\n",
      "      \"amount\" : 250000,\n",
      "      \"duration\" : 240,\n",
      "      \"yearlyInterestRate\" : 0.05,\n",
      "      \"yearlyRepayment\" : 19798,\n",
      "      \"approved\" : true,\n",
      "      \"messages\" : [ ]\n",
      "    }\n",
      "  },\n",
      "  \"input\" : {\n",
      "    \"loan\" : {\n",
      "      \"amount\" : 250000,\n",
      "      \"duration\" : 240,\n",
      "      \"yearlyInterestRate\" : 0.05,\n",
      "      \"yearlyRepayment\" : 19798,\n",
      "      \"approved\" : true,\n",
      "      \"messages\" : [ ]\n",
      "    },\n",
      "    \"borrower\" : {\n",
      "      \"name\" : \"John Doe\",\n",
      "      \"creditScore\" : 550,\n",
      "      \"yearlyIncome\" : 80000\n",
      "    }\n",
      "  }\n",
      "}\n"
     ]
    }
   ],
   "source": [
    "//answers.toDF().show(false)\n",
    "answers.take(1).foreach(println)"
   ]
  },
  {
   "cell_type": "markdown",
   "metadata": {},
   "source": [
    "<a id=\"summary\"></a>\n",
    "## 7. Summary and next steps\n",
    "Congratulations! You have applied business rules to automatically determine loan approval eligibility. You loaded a loan application data set, ran a rule engine inside an Apache Spark cluster to make an eligibility decision for each applicant. Each decision is a Scala object that is part of a Spark Resilient Data Set. \n",
    "Each decision is structured with input parameters (the context of the decision) and output parameters. For audit purpose the rule engine can emit a decision trace.\n",
    "\n",
    "Disclaimer: this notebook uses an experimental in memory RuleSession API that simplifies the deployment pattern. For a customer deployment you have to use a Rule Execution Server database to store the rule set. At execution time the Apache Spark application loads and run the rules through regular JSE RuleSession API. \n",
    "\n",
    "In both cases (regular database or experimental in memory) ODM empowers rule engine to automate decisions in parallel locally in the Spark cluster giving high scalability.\n",
    "\n",
    "<a id=\"authors\"></a>\n",
    "## Authors\n",
    "Pierre Feillet and Laurent Grateau are business rule engineers at IBM working in the Decision lab located in France.\n",
    "\n",
    "Copyright © 2018 IBM. This notebook and its source code are released under the terms of the MIT License."
   ]
  }
 ],
 "metadata": {
  "kernelspec": {
   "display_name": "Scala 2.11 with Spark 2.1",
   "language": "scala",
   "name": "scala-spark21"
  },
  "language_info": {
   "codemirror_mode": "text/x-scala",
   "file_extension": ".scala",
   "mimetype": "text/x-scala",
   "name": "scala",
   "pygments_lexer": "scala",
   "version": "2.11.8"
  }
 },
 "nbformat": 4,
 "nbformat_minor": 1
}
