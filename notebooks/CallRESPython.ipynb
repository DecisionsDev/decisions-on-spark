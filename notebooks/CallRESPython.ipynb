{
 "cells": [
  {
   "cell_type": "markdown",
   "metadata": {},
   "source": [
    "# Calling RES with Python\n",
    "## Pre-Requisite\n",
    "   * Python 3\n",
    "   * Support of PySpark"
   ]
  },
  {
   "cell_type": "code",
   "execution_count": 1,
   "metadata": {},
   "outputs": [
    {
     "name": "stdout",
     "output_type": "stream",
     "text": [
      "/home/jovyan/work\n",
      "  % Total    % Received % Xferd  Average Speed   Time    Time     Time  Current\n",
      "                                 Dload  Upload   Total   Spent    Left  Speed\n",
      "100  4146  100  4146    0     0  14967      0 --:--:-- --:--:-- --:--:-- 14967\n",
      "  % Total    % Received % Xferd  Average Speed   Time    Time     Time  Current\n",
      "                                 Dload  Upload   Total   Spent    Left  Speed\n",
      "100 14663  100 14663    0     0  54712      0 --:--:-- --:--:-- --:--:-- 54712\n",
      "  % Total    % Received % Xferd  Average Speed   Time    Time     Time  Current\n",
      "                                 Dload  Upload   Total   Spent    Left  Speed\n",
      "100 32796  100 32796    0     0   307k      0 --:--:-- --:--:-- --:--:--  310k\n",
      "  % Total    % Received % Xferd  Average Speed   Time    Time     Time  Current\n",
      "                                 Dload  Upload   Total   Spent    Left  Speed\n",
      "100 13.7M  100 13.7M    0     0  1378k      0  0:00:10  0:00:10 --:--:-- 1177k\n",
      "  % Total    % Received % Xferd  Average Speed   Time    Time     Time  Current\n",
      "                                 Dload  Upload   Total   Spent    Left  Speed\n",
      "100 8918k  100 8918k    0     0  1311k      0  0:00:06  0:00:06 --:--:-- 1464k\n"
     ]
    }
   ],
   "source": [
    "import os\n",
    "\n",
    "cwd = os.getcwd()\n",
    "print(cwd)\n",
    "# Download Material for Rule Exection\n",
    "!curl -o {cwd}/miniloan-xom.jar https://raw.githubusercontent.com/ODMDev/decisions-on-spark/pythonintegration/data/miniloan/miniloan-xom.jar\n",
    "!curl -o {cwd}/miniloan-ruleapp.jar https://raw.githubusercontent.com/ODMDev/decisions-on-spark/pythonintegration/data/miniloan/miniloan-ruleapp.jar\n",
    "# Download ODM Library\n",
    "!curl -o {cwd}/j2ee_connector-1_5-fr.jar http://159.122.179.123:31329/download/lib/ODM8920/j2ee_connector-1_5-fr.jar\n",
    "!curl -o {cwd}/jrules-engine.jar http://159.122.179.123:31329/download/lib/ODM8920/jrules-engine.jar\n",
    "!curl -o {cwd}/jrules-res-execution.jar http://159.122.179.123:31329/download/lib/ODM8920/jrules-res-execution-memory.jar\n",
    "\n",
    "os.environ['PYSPARK_SUBMIT_ARGS'] = \"--jars local:\"+cwd+\"/miniloan-ruleapp.jar,local:\"+cwd+\"/miniloan-xom.jar,local:\"+cwd+\"/jrules-engine.jar,local:\"+cwd+\"/j2ee_connector-1_5-fr.jar,local:\"+cwd+\"/jrules-res-execution.jar pyspark-shell\"\n",
    "\n",
    "\n",
    "import pyspark # only run after findspark.init()\n",
    "from pyspark.sql import SparkSession\n",
    "sc = SparkSession.builder.getOrCreate()\n"
   ]
  },
  {
   "cell_type": "code",
   "execution_count": 2,
   "metadata": {},
   "outputs": [
    {
     "name": "stdout",
     "output_type": "stream",
     "text": [
      "Decision Executions return this parameters : \n",
      "ilog.rules.firedRulesCount corresponds to 1\n",
      "loan corresponds to miniloan.Loan@df01536\n",
      "Nb of Rules fire :  1\n",
      "Loan Approved :  False\n",
      "Loan Message :  ['The loan cannot exceed 1,000,000']\n"
     ]
    }
   ],
   "source": [
    "def CreateODMSession(sc):\n",
    "    factoryConfig = sc._jvm.ilog.rules.res.session.IlrJ2SESessionFactory.createDefaultConfig()\n",
    "    xuConfig = factoryConfig.getXUConfig();\n",
    "    xuConfig.setLogAutoFlushEnabled(True);\n",
    "    xuConfig.getPersistenceConfig().setPersistenceType(sc._jvm.ilog.rules.res.session.config.IlrPersistenceType.MEMORY);\n",
    "    xuConfig.getManagedXOMPersistenceConfig().setPersistenceType(sc._jvm.ilog.rules.res.session.config.IlrPersistenceType.MEMORY);\n",
    "    factory=sc._jvm.ilog.rules.res.session.IlrJ2SESessionFactory(factoryConfig)\n",
    "    return factory\n",
    "\n",
    "\n",
    "factory=CreateODMSession(sc)\n",
    "# Create a session request object\n",
    "sessionRequest = factory.createRequest()\n",
    "\n",
    "sessionRequest.setRulesetPath(sc._jvm.ilog.rules.res.model.IlrPath.parsePath(\"/miniloanruleapp/1.0/miniloanrules/1.0\"));\n",
    "# Ensure latest version of the ruleset is taken into account\n",
    "sessionRequest.setForceUptodate(True);\n",
    "# Set the input parameters for the execution of the rules\n",
    "inputParameters = sc._jvm.java.util.HashMap();\n",
    "\n",
    "borrower =  sc._jvm.miniloan.Borrower(\"Smith John\", 200,20000)\n",
    "loan =  sc._jvm.miniloan.Loan()\n",
    "loan.setAmount(6000000)\n",
    "loan.setDuration(1000)\n",
    "loan.setYearlyInterestRate(0.05)\n",
    "\n",
    "inputParameters[\"loan\"]=loan\n",
    "inputParameters[\"borrower\"]=borrower\n",
    "\n",
    "sessionRequest.setInputParameters(inputParameters)\n",
    "# Create the stateless rule session.\n",
    "session = factory.createStatelessSession()\n",
    "# Execute rules\n",
    "sessionResponse = session.execute(sessionRequest)\n",
    "# Display the report\n",
    "outParameters=sessionResponse.getOutputParameters()\n",
    "print(\"Decision Executions return this parameters : \")\n",
    "for key in outParameters:\n",
    "    print (key, \"corresponds to\", outParameters[key])\n",
    "print(\"Nb of Rules fire : \",outParameters['ilog.rules.firedRulesCount'])\n",
    "print(\"Loan Approved : \",outParameters['loan'].isApproved())\n",
    "print(\"Loan Message : \",outParameters['loan'].getMessages())"
   ]
  },
  {
   "cell_type": "code",
   "execution_count": null,
   "metadata": {},
   "outputs": [],
   "source": []
  }
 ],
 "metadata": {
  "kernelspec": {
   "display_name": "Python 3",
   "language": "python",
   "name": "python3"
  },
  "language_info": {
   "codemirror_mode": {
    "name": "ipython",
    "version": 3
   },
   "file_extension": ".py",
   "mimetype": "text/x-python",
   "name": "python",
   "nbconvert_exporter": "python",
   "pygments_lexer": "ipython3",
   "version": "3.6.6"
  }
 },
 "nbformat": 4,
 "nbformat_minor": 2
}
