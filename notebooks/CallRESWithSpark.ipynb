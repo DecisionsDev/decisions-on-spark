{
 "cells": [
  {
   "cell_type": "markdown",
   "metadata": {},
   "source": [
    "# Calling RES with Python in SPARK\n",
    "## Pre-Requisite\n",
    "   * PySpark"
   ]
  },
  {
   "cell_type": "code",
   "execution_count": null,
   "metadata": {},
   "outputs": [],
   "source": [
    "!pip install pyspark"
   ]
  },
  {
   "cell_type": "markdown",
   "metadata": {},
   "source": [
    "## Initializing Python environment with ODM Jars files and ODM Model archive\n",
    "\n",
    "   * Create a Spark Session\n",
    "   * Initialize the Python environment"
   ]
  },
  {
   "cell_type": "code",
   "execution_count": null,
   "metadata": {},
   "outputs": [],
   "source": [
    "from io import StringIO\n",
    "\n",
    "import requests\n",
    "import json\n",
    "import pandas as pd\n",
    "from pyspark.sql import SparkSession\n",
    "from pyspark.sql import SparkSession\n",
    "from pyspark.sql import SQLContext\n",
    "import os\n",
    "\n",
    "import os\n",
    "\n",
    "cwd = os.getcwd()\n",
    "print(cwd)\n",
    "# Download Material for Rule Exection\n",
    "!curl -o {cwd}/miniloan-xom.jar https://raw.githubusercontent.com/ODMDev/decisions-on-spark/pythonintegration/data/miniloan/miniloan-xom.jar\n",
    "!curl -o {cwd}/miniloan-ruleapp.jar https://raw.githubusercontent.com/ODMDev/decisions-on-spark/pythonintegration/data/miniloan/miniloan-ruleapp.jar\n",
    "# Download ODM Library\n",
    "!curl -o {cwd}/j2ee_connector-1_5-fr.jar http://159.122.179.123:31329/download/lib/ODM8920/j2ee_connector-1_5-fr.jar\n",
    "!curl -o {cwd}/jrules-engine.jar http://159.122.179.123:31329/download/lib/ODM8920/jrules-engine.jar\n",
    "!curl -o {cwd}/jrules-res-execution.jar http://159.122.179.123:31329/download/lib/ODM8920/jrules-res-execution-memory.jar\n",
    "\n",
    "os.environ['PYSPARK_SUBMIT_ARGS'] = \"--jars local:\"+cwd+\"/miniloan-ruleapp.jar,local:\"+cwd+\"/miniloan-xom.jar,local:\"+cwd+\"/jrules-engine.jar,local:\"+cwd+\"/j2ee_connector-1_5-fr.jar,local:\"+cwd+\"/jrules-res-execution.jar pyspark-shell\"\n",
    "\n",
    "\n",
    "import pyspark # only run after findspark.init()\n",
    "from pyspark.sql import SparkSession\n",
    "\n",
    "# Create a Spark Session\n",
    "sc = SparkSession.builder.getOrCreate()\n",
    "sc"
   ]
  },
  {
   "cell_type": "markdown",
   "metadata": {},
   "source": [
    "## Load Dataset"
   ]
  },
  {
   "cell_type": "code",
   "execution_count": null,
   "metadata": {},
   "outputs": [],
   "source": [
    "\n",
    "# Create a SParkSQL Context to load the data in a dataframe\n",
    "sql = SQLContext(sc.sparkContext)\n",
    "new_decisions_pd = pd.read_csv(\"https://raw.githubusercontent.com/ODMDev/decisions-on-spark/master/data/miniloan/miniloan-decisions-defaultly-1K.csv\")\n",
    "request_df = sql.createDataFrame(new_decisions_pd)\n",
    "request_df.printSchema()\n",
    "request_df.show(10)"
   ]
  },
  {
   "cell_type": "code",
   "execution_count": null,
   "metadata": {},
   "outputs": [],
   "source": [
    "from  pyspark.sql import Row\n",
    "\n",
    "def CreateODMSession(sc):\n",
    "    if not hasattr(CreateODMSession, \"fac\"):\n",
    "        factoryConfig = sc._jvm.ilog.rules.res.session.IlrJ2SESessionFactory.createDefaultConfig()\n",
    "        xuConfig = factoryConfig.getXUConfig();\n",
    "        xuConfig.setLogAutoFlushEnabled(True);\n",
    "        xuConfig.getPersistenceConfig().setPersistenceType(sc._jvm.ilog.rules.res.session.config.IlrPersistenceType.MEMORY);\n",
    "        xuConfig.getManagedXOMPersistenceConfig().setPersistenceType(sc._jvm.ilog.rules.res.session.config.IlrPersistenceType.MEMORY);\n",
    "        CreateODMSession.fac=sc._jvm.ilog.rules.res.session.IlrJ2SESessionFactory(factoryConfig)    \n",
    "    return CreateODMSession.fac\n",
    "\n",
    "def execute (row):\n",
    "    sc = SparkSession.builder.getOrCreate()\n",
    "    factory=CreateODMSession(sc)\n",
    "\n",
    "    sessionRequest = factory.createRequest()\n",
    "    sessionRequest.setRulesetPath(sc._jvm.ilog.rules.res.model.IlrPath.parsePath(\"/miniloanruleapp/miniloanrules\"))\n",
    "    # Ensure latest version of the ruleset is taken into account\n",
    "    sessionRequest.setForceUptodate(True)\n",
    "    # Set the input parameters for the execution of the rules\n",
    "    inputParameters = sc._jvm.java.util.HashMap()\n",
    "    borrower =  sc._jvm.miniloan.Borrower(row.name, row.creditScore,row.income)\n",
    "    loan =  sc._jvm.miniloan.Loan()\n",
    "    loan.setAmount(row.loanAmount)\n",
    "    loan.setDuration(row.monthDuration)\n",
    "    loan.setYearlyInterestRate(row.rate)\n",
    "    \n",
    "    # Set parameters\n",
    "    inputParameters[\"loan\"]=loan\n",
    "    inputParameters[\"borrower\"]=borrower\n",
    "\n",
    "    sessionRequest.setInputParameters(inputParameters)\n",
    "    session = factory.createStatelessSession()\n",
    "    # Perfrom ODM Execution \n",
    "    response = session.execute(sessionRequest)\n",
    "    col= response.getOutputParameters()\n",
    "#    for key in col:\n",
    "#        print (key, \"corresponds to\", col[key])\n",
    "    loanResult= response.getOutputParameters().get(\"loan\")\n",
    "    return Row(isApproved=loanResult.isApproved(),firedRulesCount=col['ilog.rules.firedRulesCount'])\n",
    "#execute(\"dd\")\n",
    "\n",
    "dfResult = request_df.rdd.map(execute).toDF()\n",
    "count= dfResult.count()\n",
    "print(\"Execution fininsh\")\n",
    "#rddResult\n",
    "# Count the nb of Loan approved"
   ]
  },
  {
   "cell_type": "markdown",
   "metadata": {},
   "source": [
    "# We can query execution Results\n"
   ]
  },
  {
   "cell_type": "code",
   "execution_count": null,
   "metadata": {},
   "outputs": [],
   "source": [
    "dfResult.createOrReplaceTempView(\"loan\")\n",
    "sc.sql(\"SELECT isApproved FROM loan\").show()\n"
   ]
  }
 ],
 "metadata": {
  "kernelspec": {
   "display_name": "Python 3",
   "language": "python",
   "name": "python3"
  },
  "language_info": {
   "codemirror_mode": {
    "name": "ipython",
    "version": 3
   },
   "file_extension": ".py",
   "mimetype": "text/x-python",
   "name": "python",
   "nbconvert_exporter": "python",
   "pygments_lexer": "ipython3",
   "version": "3.6.6"
  }
 },
 "nbformat": 4,
 "nbformat_minor": 2
}
